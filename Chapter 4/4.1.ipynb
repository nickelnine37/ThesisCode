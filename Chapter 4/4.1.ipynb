{
 "cells": [
  {
   "cell_type": "code",
   "execution_count": 1,
   "metadata": {},
   "outputs": [],
   "source": [
    "import numpy as np\n",
    "import matplotlib.pyplot as plt\n",
    "import pandas as pd\n",
    "\n",
    "np.set_printoptions(precision=3, linewidth=500, threshold=500, suppress=True, edgeitems=5)\n",
    "\n",
    "%load_ext autoreload\n",
    "%autoreload 2\n",
    "# %matplotlib notebook"
   ]
  },
  {
   "cell_type": "code",
   "execution_count": 2,
   "metadata": {},
   "outputs": [
    {
     "name": "stderr",
     "output_type": "stream",
     "text": [
      "2023-02-03 15:24:15.642885: E external/org_tensorflow/tensorflow/stream_executor/cuda/cuda_driver.cc:265] failed call to cuInit: CUDA_ERROR_UNKNOWN: unknown error\n",
      "WARNING:absl:No GPU/TPU found, falling back to CPU. (Set TF_CPP_MIN_LOG_LEVEL=0 and rerun for more info.)\n"
     ]
    },
    {
     "name": "stdout",
     "output_type": "stream",
     "text": [
      "Using Jax backend with device TFRT_CPU_0\n"
     ]
    }
   ],
   "source": [
    "from ndgsp.graph.graphs import Graph, ProductGraph"
   ]
  },
  {
   "cell_type": "code",
   "execution_count": 3,
   "metadata": {},
   "outputs": [],
   "source": [
    "from numpy import eye as I\n",
    "J = lambda N: np.ones((N, N))"
   ]
  },
  {
   "cell_type": "code",
   "execution_count": 4,
   "metadata": {},
   "outputs": [],
   "source": [
    "np.random.seed(0)"
   ]
  },
  {
   "cell_type": "code",
   "execution_count": 5,
   "metadata": {},
   "outputs": [],
   "source": [
    "def check_rule(A_A: np.ndarray, \n",
    "               A_B: np.ndarray, \n",
    "               a: int, \n",
    "               b: int, \n",
    "               a_: int, \n",
    "               b_: int, \n",
    "               rule: int):\n",
    "    \"\"\"\n",
    "    For a given product graph rule, check whether two nodes (a, b) and (a_, b_)\n",
    "    are connected in the product of graphs with adjacency matrices A_A and A_B\n",
    "    \"\"\"\n",
    "    \n",
    "    if rule == 1:\n",
    "        return A_A[a, a_] and b == b_\n",
    "    \n",
    "    if rule == 2:\n",
    "        return not A_A[a, a_] and b == b_\n",
    "    \n",
    "    if rule == 3:\n",
    "        return A_A[a, a_] and A_B[b, b_]\n",
    "    \n",
    "    if rule == 4:\n",
    "        return not A_A[a, a_] and A_B[b, b_]\n",
    "    \n",
    "    if rule == 5:\n",
    "        return A_A[a, a_] and not A_B[b, b_]\n",
    "    \n",
    "    if rule == 6:\n",
    "        return not A_A[a, a_] and not A_B[b, b_]\n",
    "    \n",
    "    if rule == 7:\n",
    "        return a == a_ and A_B[b, b_]\n",
    "    \n",
    "    if rule == 8:\n",
    "        return a == a_ and not A_B[b, b_]\n",
    "\n",
    "    raise ValueError('rule should be an int from 1-8')\n",
    "\n",
    "\n",
    "def get_A_from_rules(A_A: np.ndarray, \n",
    "                     A_B: np.ndarray, \n",
    "                     rules: list[int]):\n",
    "    \"\"\"\n",
    "    Create a product graph adjacency matrix using the factor \n",
    "    adjacency matrices and a set of rules\n",
    "    \"\"\"\n",
    "    \n",
    "    A = len(A_A)\n",
    "    B = len(A_B)\n",
    "    \n",
    "    out = np.zeros((A * B, A * B))\n",
    "\n",
    "    nodes = np.argwhere(np.ones((A, B)))\n",
    "    \n",
    "    for i, (a, b) in enumerate(nodes): \n",
    "        \n",
    "        for j, (a_, b_) in enumerate(nodes):\n",
    "            \n",
    "            out[i, j] = out[j, i] = any(check_rule(A_A, A_B, a, b, a_, b_, rule) for rule in rules)\n",
    "            \n",
    "    return out\n",
    "\n",
    "\n",
    "def get_A_from_adjacency(A_A: np.ndarray,\n",
    "                         A_B: np.ndarray,\n",
    "                         product: str):\n",
    "    \"\"\"\n",
    "    Create a product graph adjacency matrix for a given product\n",
    "    using the factor adjacency matrices\n",
    "    \"\"\"\n",
    "\n",
    "        \n",
    "    NA = len(A_A)\n",
    "    NB = len(A_B)\n",
    "    \n",
    "    if product == 'Cartesian':\n",
    "        \n",
    "        return np.kron(A_A, I(NB)) + np.kron(I(NA), A_B)\n",
    "    \n",
    "    if product == 'direct':\n",
    "        \n",
    "        return np.kron(A_A, A_B)\n",
    "    \n",
    "    if product == 'strong':\n",
    "        \n",
    "        return np.kron(A_A, I(NB)) + np.kron(I(NA), A_B) + np.kron(A_A, A_B)\n",
    "    \n",
    "    if product == 'lexicographic':\n",
    "        \n",
    "        return np.kron(A_A, J(NB)) + np.kron(I(NA), A_B)\n",
    "\n",
    "\n",
    "def check_A_consistent():\n",
    "    \"\"\"\n",
    "    Check that constructing the product graph adjacency from the rules \n",
    "    and from the adjacency matrix products result in the same graph\n",
    "    \"\"\"\n",
    "\n",
    "    GA = Graph.random_connected(8)\n",
    "    GB = Graph.random_connected(10)\n",
    "\n",
    "    for product, rules in [('Cartesian', [1, 7]), \n",
    "                        ('direct', [3]), \n",
    "                        ('strong', [1, 3, 7]), \n",
    "                        ('lexicographic', [1, 3, 5, 7])]:\n",
    "\n",
    "        A1 = get_A_from_rules(GA.A, GB.A, rules)\n",
    "        A2 = get_A_from_adjacency(GA.A, GB.A, product)\n",
    "\n",
    "        assert(np.allclose(A1, A2))\n",
    "\n",
    "    return True\n",
    "\n",
    "\n"
   ]
  },
  {
   "cell_type": "code",
   "execution_count": 6,
   "metadata": {},
   "outputs": [
    {
     "data": {
      "text/plain": [
       "True"
      ]
     },
     "execution_count": 6,
     "metadata": {},
     "output_type": "execute_result"
    }
   ],
   "source": [
    "check_A_consistent()"
   ]
  },
  {
   "cell_type": "code",
   "execution_count": 7,
   "metadata": {},
   "outputs": [],
   "source": [
    "    \n",
    "def get_L(A_A: np.ndarray, \n",
    "          A_B: np.ndarray, \n",
    "          L_A: np.ndarray, \n",
    "          L_B: np.ndarray, \n",
    "          product: str):\n",
    "    \"\"\"\n",
    "    Get the product graph Laplacian matrix\n",
    "    \"\"\"\n",
    "\n",
    "    NA = len(A_A)\n",
    "    NB = len(A_B)\n",
    "    \n",
    "    D_A = np.diag(A_A.sum(0))\n",
    "    D_B = np.diag(A_B.sum(0))\n",
    "           \n",
    "    if product == 'Cartesian':\n",
    "        \n",
    "        return np.kron(L_A, I(NB)) + np.kron(I(NA), L_B)\n",
    "    \n",
    "    if product == 'direct':\n",
    "        \n",
    "        return np.kron(D_A, L_B) + np.kron(L_A, D_B) - np.kron(L_A, L_B)\n",
    "    \n",
    "    if product == 'strong':\n",
    "        \n",
    "        return np.kron(L_A, I(NB)) + np.kron(I(NA), L_B) + np.kron(D_A, L_B) + np.kron(L_A, D_B) - np.kron(L_A, L_B)\n",
    "    \n",
    "    if product == 'lexicographic':\n",
    "        \n",
    "        return np.kron(I(NA), L_B) + np.kron(L_A, J(NB)) + np.kron(D_A, NB * I(NB) - J(NB))  \n",
    "    \n",
    "\n",
    "def check_L_consistent():\n",
    "    \"\"\"\n",
    "    Check that the kronecker construction methods for the product graph \n",
    "    Laplacian are consistent\n",
    "    \"\"\"\n",
    "\n",
    "    GA = Graph.random_connected(8)\n",
    "    GB = Graph.random_connected(10)\n",
    "\n",
    "    for product in ['Cartesian', 'direct', 'strong', 'lexicographic']:\n",
    "\n",
    "        L1 = get_L(GA.A, GB.A, GA.L, GB.L, product)\n",
    "        \n",
    "        A2 = get_A_from_adjacency(GA.A, GB.A, product)\n",
    "        L2 = np.diag(A2.sum(0)) - A2\n",
    "\n",
    "        assert(np.allclose(L1, L2))\n",
    "\n",
    "    return True\n"
   ]
  },
  {
   "cell_type": "code",
   "execution_count": 8,
   "metadata": {},
   "outputs": [
    {
     "data": {
      "text/plain": [
       "True"
      ]
     },
     "execution_count": 8,
     "metadata": {},
     "output_type": "execute_result"
    }
   ],
   "source": [
    "check_L_consistent()"
   ]
  },
  {
   "cell_type": "code",
   "execution_count": 12,
   "metadata": {},
   "outputs": [],
   "source": [
    "def get_product_eigs(L_A: np.ndarray, L_B: np.ndarray, product: str):\n",
    "    \"\"\"\n",
    "    Given the factor Laplacians, return the eigenvalues and eigenvectors of \n",
    "    the product Laplacian for a given product type. \n",
    "\n",
    "    Note that the direct and strong solutions only work for regular factor graphs\n",
    "    \"\"\"\n",
    "\n",
    "    lamA, UA = np.linalg.eigh(L_A)\n",
    "    lamB, UB = np.linalg.eigh(L_B)\n",
    "\n",
    "    if product == 'Cartesian':\n",
    "\n",
    "        lam = np.kron(lamA, np.ones_like(lamB)) + np.kron(np.ones_like(lamA), lamB)\n",
    "        U = np.kron(UA, UB)\n",
    "\n",
    "    if product == 'direct':\n",
    "\n",
    "        rA = -L_A[0, 1:].sum()\n",
    "        rB = -L_B[0, 1:].sum()\n",
    "        lam = rB * np.kron(lamA, np.ones_like(lamB)) + rA * np.kron(np.ones_like(lamA), lamB) - np.kron(lamA, lamB)\n",
    "        U = np.kron(UA, UB)\n",
    "\n",
    "    if product == 'strong':\n",
    "        \n",
    "        rA = -L_A[0, 1:].sum()\n",
    "        rB = -L_B[0, 1:].sum()\n",
    "        lam = (1 + rB) * np.kron(lamA, np.ones_like(lamB)) + (1 + rA) * np.kron(np.ones_like(lamA), lamB) - np.kron(lamA, lamB)\n",
    "        U = np.kron(UA, UB)\n",
    "\n",
    "    if product == 'lexicographic':\n",
    "\n",
    "        dA = -np.tril(L_A, -1).sum(0) - np.triu(L_A, 1).sum(0)\n",
    "        lam1 = len(L_B) * np.kron(dA, np.ones_like(lamB[1:])) + np.kron(np.ones_like(lamA), lamB[1:])\n",
    "        U1 = np.kron(I(len(L_A)), UB[:, 1:])\n",
    "\n",
    "        lam2 = lamA * len(L_B)\n",
    "        U2 = np.array([np.kron(UA[:, i], np.ones(len(L_B))) for i in range(len(lamA))]).T\n",
    "        U2 /= np.linalg.norm(U2, axis=0)\n",
    "\n",
    "        lam = np.concatenate([lam1, lam2])\n",
    "        U = np.concatenate([U1, U2], axis=1)\n",
    "\n",
    "    return lam, U\n"
   ]
  },
  {
   "cell_type": "code",
   "execution_count": 14,
   "metadata": {},
   "outputs": [
    {
     "data": {
      "text/plain": [
       "True"
      ]
     },
     "execution_count": 14,
     "metadata": {},
     "output_type": "execute_result"
    }
   ],
   "source": [
    "def check_eigs_consistent(): \n",
    "\n",
    "    for product in ['Cartesian', 'direct', 'strong', 'lexicographic']:\n",
    "\n",
    "        if product in ['strong', 'direct']:\n",
    "\n",
    "            GA = Graph.random_regular(6, 3)\n",
    "            GB = Graph.random_regular(8, 3)\n",
    "\n",
    "        else:\n",
    "            GA = Graph.random_connected(6)\n",
    "            GB = Graph.random_connected(8)\n",
    "\n",
    "\n",
    "        lam, U = get_product_eigs(GA.L, GB.L, product)\n",
    "        L = get_L(GA.A, GB.A, GA.L, GB.L, product)\n",
    "\n",
    "        assert np.allclose(U @ np.diag(lam) @ U.T, L)\n",
    "\n",
    "    return True\n",
    "\n",
    "\n",
    "check_eigs_consistent()\n"
   ]
  },
  {
   "cell_type": "code",
   "execution_count": null,
   "metadata": {},
   "outputs": [],
   "source": []
  }
 ],
 "metadata": {
  "kernelspec": {
   "display_name": "p310",
   "language": "python",
   "name": "python3"
  },
  "language_info": {
   "codemirror_mode": {
    "name": "ipython",
    "version": 3
   },
   "file_extension": ".py",
   "mimetype": "text/x-python",
   "name": "python",
   "nbconvert_exporter": "python",
   "pygments_lexer": "ipython3",
   "version": "3.10.4"
  },
  "orig_nbformat": 4,
  "vscode": {
   "interpreter": {
    "hash": "730f8dbc479cbd283616b04840dc87f8c2e2247abcac0e3d8548da9d19274c45"
   }
  }
 },
 "nbformat": 4,
 "nbformat_minor": 2
}
