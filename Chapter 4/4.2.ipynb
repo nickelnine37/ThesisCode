{
 "cells": [
  {
   "cell_type": "code",
   "execution_count": 2,
   "metadata": {},
   "outputs": [
    {
     "name": "stdout",
     "output_type": "stream",
     "text": [
      "The autoreload extension is already loaded. To reload it, use:\n",
      "  %reload_ext autoreload\n"
     ]
    }
   ],
   "source": [
    "import numpy as np\n",
    "import matplotlib.pyplot as plt\n",
    "import pandas as pd\n",
    "\n",
    "np.set_printoptions(precision=3, linewidth=500, threshold=500, suppress=True, edgeitems=5)\n",
    "\n",
    "%load_ext autoreload\n",
    "%autoreload 2\n",
    "# %matplotlib notebook"
   ]
  },
  {
   "cell_type": "code",
   "execution_count": 3,
   "metadata": {},
   "outputs": [
    {
     "name": "stderr",
     "output_type": "stream",
     "text": [
      "2023-02-06 13:53:37.295335: E external/org_tensorflow/tensorflow/stream_executor/cuda/cuda_driver.cc:265] failed call to cuInit: CUDA_ERROR_UNKNOWN: unknown error\n",
      "WARNING:absl:No GPU/TPU found, falling back to CPU. (Set TF_CPP_MIN_LOG_LEVEL=0 and rerun for more info.)\n"
     ]
    },
    {
     "name": "stdout",
     "output_type": "stream",
     "text": [
      "Using Jax backend with device TFRT_CPU_0\n"
     ]
    }
   ],
   "source": [
    "from ndgsp.graph.graphs import Graph, ProductGraph"
   ]
  },
  {
   "cell_type": "code",
   "execution_count": 121,
   "metadata": {},
   "outputs": [
    {
     "data": {
      "text/plain": [
       "True"
      ]
     },
     "execution_count": 121,
     "metadata": {},
     "output_type": "execute_result"
    }
   ],
   "source": [
    "def eig_of_path_graph():\n",
    "    \"\"\"\n",
    "    This function demonstrates that the eigenvalues and eigenvectors\n",
    "    of the path graph are as given in the thesis\n",
    "    \"\"\"\n",
    "\n",
    "\n",
    "    T = 101\n",
    "    G = Graph.chain(T)\n",
    "\n",
    "    # compute eigen-decomposition using closed-form solution \n",
    "    lam = 2 - 2 * np.cos(T ** -1 * np.pi * np.arange(T))\n",
    "    U = np.cos(T ** -1 * np.pi * np.outer(np.arange(T) + 0.5, np.arange(T)))\n",
    "    U /= np.linalg.norm(U, axis=0)\n",
    "\n",
    "    # check the decomposition recreates the Laplacian\n",
    "    assert np.allclose(G.L, U @ np.diag(lam) @ U.T)\n",
    "\n",
    "    return True\n",
    "\n",
    "\n",
    "\n",
    "eig_of_path_graph()\n"
   ]
  },
  {
   "cell_type": "code",
   "execution_count": null,
   "metadata": {},
   "outputs": [],
   "source": []
  }
 ],
 "metadata": {
  "kernelspec": {
   "display_name": "p310",
   "language": "python",
   "name": "python3"
  },
  "language_info": {
   "codemirror_mode": {
    "name": "ipython",
    "version": 3
   },
   "file_extension": ".py",
   "mimetype": "text/x-python",
   "name": "python",
   "nbconvert_exporter": "python",
   "pygments_lexer": "ipython3",
   "version": "3.10.4"
  },
  "orig_nbformat": 4,
  "vscode": {
   "interpreter": {
    "hash": "730f8dbc479cbd283616b04840dc87f8c2e2247abcac0e3d8548da9d19274c45"
   }
  }
 },
 "nbformat": 4,
 "nbformat_minor": 2
}
