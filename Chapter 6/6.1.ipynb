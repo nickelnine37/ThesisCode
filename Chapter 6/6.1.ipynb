{
 "cells": [
  {
   "cell_type": "code",
   "execution_count": 2,
   "metadata": {},
   "outputs": [
    {
     "name": "stderr",
     "output_type": "stream",
     "text": [
      "2023-02-22 15:45:12.961154: E external/org_tensorflow/tensorflow/stream_executor/cuda/cuda_driver.cc:265] failed call to cuInit: CUDA_ERROR_UNKNOWN: unknown error\n",
      "WARNING:absl:No GPU/TPU found, falling back to CPU. (Set TF_CPP_MIN_LOG_LEVEL=0 and rerun for more info.)\n"
     ]
    },
    {
     "name": "stdout",
     "output_type": "stream",
     "text": [
      "Using Jax backend with device TFRT_CPU_0\n"
     ]
    }
   ],
   "source": [
    "import numpy as np\n",
    "import matplotlib.pyplot as plt\n",
    "import pandas as pd\n",
    "\n",
    "np.set_printoptions(precision=3, linewidth=500, threshold=500, suppress=True, edgeitems=5)\n",
    "\n",
    "%load_ext autoreload\n",
    "%autoreload 2\n",
    "%matplotlib ipympl\n",
    "\n",
    "from ndgsp.graph.graphs import Graph, ProductGraph"
   ]
  },
  {
   "cell_type": "code",
   "execution_count": 3,
   "metadata": {},
   "outputs": [],
   "source": [
    "def get_A_from_rules(A_A: np.ndarray, \n",
    "                     A_B: np.ndarray, \n",
    "                     A_C: np.ndarray, \n",
    "                     rules: list[int]):\n",
    "    \"\"\"\n",
    "    Create a Cartesian product graph adjacency matrix using the factor \n",
    "    adjacency matrices using the product graph construction rules\n",
    "    \"\"\"\n",
    "    \n",
    "    A = len(A_A)\n",
    "    B = len(A_B)\n",
    "    C = len(A_C)\n",
    "    \n",
    "    out = np.zeros((A * B * C, A * B * C))\n",
    "\n",
    "    nodes = np.argwhere(np.ones((A, B, C)))\n",
    "    \n",
    "    for i, (a, b, c) in enumerate(nodes): \n",
    "        \n",
    "        for j, (a_, b_, c_) in enumerate(nodes):\n",
    "            \n",
    "            out[i, j] = out[j, i] = (A_A[a, a_] and b == b_ and c == c_) or (a == a_ and A_B[b, b_] and c == c_) or (a == a_ and b == b_ and A_C[c, c_])\n",
    "            \n",
    "    return out"
   ]
  },
  {
   "cell_type": "code",
   "execution_count": 4,
   "metadata": {},
   "outputs": [],
   "source": [
    "from pykronecker import KroneckerSum"
   ]
  },
  {
   "cell_type": "code",
   "execution_count": 5,
   "metadata": {},
   "outputs": [
    {
     "data": {
      "text/plain": [
       "True"
      ]
     },
     "execution_count": 5,
     "metadata": {},
     "output_type": "execute_result"
    }
   ],
   "source": [
    "GA = Graph.random_connected(5)\n",
    "GB = Graph.random_connected(6)\n",
    "GC = Graph.random_connected(7)\n",
    "\n",
    "np.allclose(KroneckerSum([GA.A, GB.A, GC.A]).to_array(), get_A_from_rules(GA.A, GB.A, GC.A, [1, 7]))"
   ]
  },
  {
   "cell_type": "code",
   "execution_count": 14,
   "metadata": {},
   "outputs": [],
   "source": [
    "def create_3d_CPG_tex():\n",
    "\n",
    "    def node (i: int, offset: tuple, colors: tuple):\n",
    "\n",
    "        return f\"\"\"\\\\node ({i}) at ({offset[0]}, {offset[1]}) {{}};\n",
    "    \\\\draw[gray, very thin, fill={{rgb,255: red,{colors[0][0]}; green,{colors[0][1]}; blue,{colors[0][2]}}}, shift={{({offset[0]}, {offset[1]})}}] (0,0) -- (0,0.5) arc[start angle=90, end angle=210, radius=0.5cm] -- (0,0);\n",
    "    \\\\draw[gray, very thin, fill={{rgb,255: red,{colors[1][0]}; green,{colors[1][1]}; blue,{colors[1][2]}}}, shift={{({offset[0]}, {offset[1]})}}] (0,0) -- (-0.433,-0.25) arc[start angle=210, end angle=330, radius=0.5cm] -- (0,0);\n",
    "    \\\\draw[gray, very thin, fill={{rgb,255: red,{colors[2][0]}; green,{colors[2][1]}; blue,{colors[2][2]}}}, shift={{({offset[0]}, {offset[1]})}}] (0,0) -- (0.433,-0.25) arc[start angle=-30, end angle=90, radius=0.5cm] -- (0,0);\n",
    "\n",
    "    \"\"\"\n",
    "\n",
    "    cA = np.array([(255, 0, 40), (255, 100, 0), (255, 145, 0), (255, 205, 0), (255, 255, 0)])\n",
    "    cB = np.array([(0, 255, 0), (0, 255, 139), (0, 255, 255), (0, 255, 200)])\n",
    "    cC = np.array([(0, 0, 255), (140, 0, 255), (200, 0, 255), (255, 0, 255)])\n",
    "\n",
    "    pA = np.array([(-5.5, 5.75), (-5.5, 2.5), (-4.5, -0.25), (-6.0, -1.75), (-4.75, -4.75)])\n",
    "    pB = np.array([(-1.25, 2.0), (2.25, 1.75), (7.75, 2.25), (5.0, 0.25)])\n",
    "    pC = np.array([(11, 1), (14, 4), (17, 1), (14, -2)]).astype(float)\n",
    "\n",
    "    pA -= np.array(pA).mean(0)\n",
    "    pB -= np.array(pB).mean(0)\n",
    "    pC -= np.array(pC).mean(0)\n",
    "\n",
    "    A_A = np.array([[0, 1, 0, 0, 0], \n",
    "                    [1, 0, 1, 1, 0], \n",
    "                    [0, 1, 0, 0, 1], \n",
    "                    [0, 1, 0, 0, 1], \n",
    "                    [0, 0, 1, 1, 0]]).astype(float)\n",
    "\n",
    "    A_B = np.array([[0, 1, 0, 0], \n",
    "                    [1, 0, 1, 1], \n",
    "                    [0, 1, 0, 0], \n",
    "                    [0, 1, 0, 0]]).astype(float)\n",
    "\n",
    "    A_C = np.array([[0, 1, 0, 1], \n",
    "                    [1, 0, 1, 0], \n",
    "                    [0, 1, 0, 1], \n",
    "                    [1, 0, 1, 0]]).astype(float)\n",
    "\n",
    "    A = KroneckerSum([A_A, A_B, A_C]).to_array()\n",
    "\n",
    "\n",
    "    out = r\"\"\"\\documentclass[crop,tikz]{standalone}\n",
    "\n",
    "    \\usepackage{tikz}\n",
    "    \\usetikzlibrary{positioning, shapes.geometric, backgrounds}\n",
    "\n",
    "    \\begin{document}\n",
    "\n",
    "    \\begin{tikzpicture}\n",
    "\n",
    "    \"\"\"\n",
    "\n",
    "    for i, (a, b, c) in enumerate(np.argwhere(np.ones((5, 4, 4)))):\n",
    "\n",
    "        node_tex = node(i, offset=(pA[a] + pB[b] + 4 * pC[c]).round(3), colors=(cA[a], cB[b], cC[c]))\n",
    "\n",
    "        out += node_tex\n",
    "\n",
    "    out += r'\\begin{scope}[on background layer]'\n",
    "    out += '\\n'\n",
    "\n",
    "    for i, (a, b, c) in enumerate(np.argwhere(np.ones((5, 4, 4)))):\n",
    "\n",
    "        for j, (a_, b_, c_) in enumerate(np.argwhere(np.ones((5, 4, 4)))):\n",
    "\n",
    "            if j < i:\n",
    "                continue\n",
    "\n",
    "            if A[i, j]:\n",
    "\n",
    "                out += f'\\draw[gray, very thin] ({i}) to ({j});\\n'\n",
    "\n",
    "    out += r\"\"\"\n",
    "\n",
    "    \\end{scope}\n",
    "\n",
    "    \\end{tikzpicture}\n",
    "\n",
    "\n",
    "    \\end{document} \"\"\"\n",
    "\n",
    "\n",
    "    with open('diagram.tex', 'w') as f:\n",
    "\n",
    "        f.write(out)\n"
   ]
  },
  {
   "cell_type": "code",
   "execution_count": 15,
   "metadata": {},
   "outputs": [],
   "source": [
    "create_3d_CPG_tex()"
   ]
  },
  {
   "cell_type": "code",
   "execution_count": 74,
   "metadata": {},
   "outputs": [],
   "source": []
  },
  {
   "cell_type": "code",
   "execution_count": 75,
   "metadata": {},
   "outputs": [],
   "source": []
  },
  {
   "cell_type": "code",
   "execution_count": 78,
   "metadata": {},
   "outputs": [],
   "source": [
    "\n"
   ]
  },
  {
   "cell_type": "code",
   "execution_count": 62,
   "metadata": {},
   "outputs": [],
   "source": []
  },
  {
   "cell_type": "code",
   "execution_count": null,
   "metadata": {},
   "outputs": [],
   "source": [
    "\n",
    "\n",
    "        \n"
   ]
  }
 ],
 "metadata": {
  "kernelspec": {
   "display_name": "p310",
   "language": "python",
   "name": "python3"
  },
  "language_info": {
   "codemirror_mode": {
    "name": "ipython",
    "version": 3
   },
   "file_extension": ".py",
   "mimetype": "text/x-python",
   "name": "python",
   "nbconvert_exporter": "python",
   "pygments_lexer": "ipython3",
   "version": "3.10.4"
  },
  "orig_nbformat": 4,
  "vscode": {
   "interpreter": {
    "hash": "730f8dbc479cbd283616b04840dc87f8c2e2247abcac0e3d8548da9d19274c45"
   }
  }
 },
 "nbformat": 4,
 "nbformat_minor": 2
}
