{
 "cells": [
  {
   "cell_type": "code",
   "execution_count": 445,
   "metadata": {},
   "outputs": [],
   "source": [
    "import numpy as np\n",
    "from numpy import kron, eye as I, diag\n",
    "import matplotlib.pyplot as plt\n",
    "\n",
    "from ndgsp.graph.graphs import Graph\n",
    "\n",
    "from scipy.spatial.distance import pdist, squareform\n",
    "\n",
    "np.set_printoptions(precision=3, linewidth=500, threshold=500, suppress=True, edgeitems=5)\n",
    "\n",
    "import sys\n",
    "sys.path.append('..')\n",
    "\n",
    "from utils.plotting import to_colors\n"
   ]
  },
  {
   "cell_type": "code",
   "execution_count": 307,
   "metadata": {},
   "outputs": [],
   "source": [
    "np.random.seed(0)\n",
    "\n",
    "\n",
    "N = 50\n",
    "M = 5\n",
    "lam = 0.4\n",
    "gamma = 0.5\n",
    "\n",
    "g = Graph.random_connected(N)\n",
    "\n",
    "\n",
    "U = g.U\n",
    "\n",
    "# DG = diag(np.exp(-g.lam))\n",
    "# DG = I(N)\n",
    "DG = diag([1] + [0] * (N - 1))\n",
    "\n",
    "m = 0.8\n",
    "DS = np.zeros(N)\n",
    "DS[np.random.choice(np.arange(N), size= int((1 - m) * N))] = 1\n",
    "DS = diag(DS)\n",
    "\n",
    "X = np.random.normal(size=(N, M))\n",
    "\n",
    "lamM, UM = np.linalg.eigh(X.T @ DS @ X)\n",
    "DM = diag((lamM + lam) ** -0.5)\n",
    "\n",
    "M11 = DG @ U.T @ DS @ U @ DG + gamma * I(N)\n",
    "M12 = DG @ U.T @ DS @ X @ UM @ DM\n",
    "\n",
    "M = np.block([[M11, M12], [M12.T, I(M)]])\n",
    "\n",
    "lams = np.linalg.eigvalsh(M)"
   ]
  },
  {
   "cell_type": "code",
   "execution_count": 311,
   "metadata": {},
   "outputs": [
    {
     "data": {
      "text/plain": [
       "Graph(N=8)"
      ]
     },
     "execution_count": 311,
     "metadata": {},
     "output_type": "execute_result"
    }
   ],
   "source": [
    "Graph.random_connected(8)"
   ]
  },
  {
   "cell_type": "code",
   "execution_count": 422,
   "metadata": {},
   "outputs": [],
   "source": [
    "def make_kgr_tikz_graph():\n",
    "    \"\"\"\n",
    "    Create the TikZ code for plotting the KGR diagram\n",
    "    \"\"\"\n",
    "\n",
    "    np.random.seed(1)\n",
    "\n",
    "    x = 2 * np.random.uniform(0, 10, size=10)\n",
    "    y = 2 * np.random.uniform(0, 10, size=10)\n",
    "\n",
    "    xx = x - x.mean()\n",
    "    yy = y - y.mean()\n",
    "\n",
    "    edges  = np.array([(0, 9),(0, 8),(0, 7),(0, 6),(0, 1),(1, 9),(1, 7),(1, 3),(3, 7),(3, 5), \n",
    "                       (6, 7),(5, 6),(6, 8),(2, 5),(2, 6),(2, 4),(4, 6),(4, 8),(8, 9), (7, 5)])\n",
    "\n",
    "\n",
    "    A = np.zeros((10, 10))\n",
    "\n",
    "    A[edges[:, 0], edges[:, 1]] = 1\n",
    "    A = A + A.T\n",
    "\n",
    "    L = np.diag(A.sum(0)) - A \n",
    "\n",
    "    lam, U = np.linalg.eigh(L)\n",
    "\n",
    "    H = U @ diag(np.exp(-lam)) @ U.T\n",
    "\n",
    "    def make_section(i, t, offset):\n",
    "\n",
    "        np.random.seed(i)\n",
    "\n",
    "        s = np.random.choice(np.arange(10), size=4)\n",
    "\n",
    "        cols = to_colors(H @ np.random.normal(size=10), cmap='autumn')\n",
    "\n",
    "        x = np.random.normal(size=4)\n",
    "\n",
    "        tex = f\"\\\\draw ({-1.5 + offset},2) node{{$t = {t}$}}; \\n\"\n",
    "        tex += f\"\\\\draw ({-3.5 + offset},0) node{{ $ \\\\mathbf{{x}}_{t} = \\\\begin{{bmatrix}} {x[0]:.2f} \\\\\\\\[0.1cm] {x[1]:.2f} \\\\\\\\[0.1cm] {x[2]:.2f} \\\\\\\\[0.1cm] {x[3]:.2f} \\\\end{{bmatrix}}$ }};\\n\"\n",
    "        tex +=  f\"\\\\draw ({-1.6 + offset},0) node{{$\\\\mathbf{{y}}_{t} = $}};\\n\\n\"\n",
    "\n",
    "        for i in range(10):\n",
    "\n",
    "            if i in s:\n",
    "                tex += f'\\\\node[circle, draw, fill={{rgb,255: red,255; green,255; blue,255}}, minimum size=1mm] ({i + j * 10}) at ({offset + xx[i] / 6:.2f}, {yy[i] / 6:.2f}) {{}};\\n'\n",
    "\n",
    "            else:\n",
    "                tex += f'\\\\node[circle, draw, fill={{rgb,255: red,{int(cols[i][1:3], base=16)}; green,{int(cols[i][3:5], base=16)}; blue,{int(cols[i][5:], base=16)}}}, minimum size=1mm] ({i + j * 10}) at ({offset + xx[i] / 6:.2f}, {yy[i] / 6:.2f}) {{}};\\n'\n",
    "\n",
    "        tex += '\\n'\n",
    "\n",
    "        for e1, e2 in edges:\n",
    "            tex += f'\\draw[gray, very thin] ({e1 + j * 10}) to ({e2 + j * 10});\\n'\n",
    " \n",
    "        return tex + '\\n'\n",
    "\n",
    "    all_tex = \"\"\"\\\\documentclass[crop,tikz]{standalone} \\n\\\\usepackage{tikz, amsmath, amssymb} \\n\\\\usetikzlibrary{positioning, shapes.geometric} \\n\\\\begin{document} \\n\\\\begin{tikzpicture}\\n\"\"\"\n",
    "\n",
    "    for j, t in enumerate(['1', '2', 'T']):\n",
    "\n",
    "        if j == 0:\n",
    "            o = 0\n",
    "        elif j == 1:\n",
    "            o = 7\n",
    "        else:\n",
    "            o = 15\n",
    "\n",
    "        all_tex += make_section(j, t, o)\n",
    "\n",
    "    all_tex += '\\\\draw (1.3, 0) node{$,$}; \\n \\\\draw (8.9, 0) node{$, \\\\quad\\\\quad \\\\dots $};\\n\\n'\n",
    "\n",
    "    all_tex += \"\\\\end{tikzpicture}\\n\\\\end{document} \"\n",
    "\n",
    "    return all_tex "
   ]
  },
  {
   "cell_type": "code",
   "execution_count": null,
   "metadata": {},
   "outputs": [],
   "source": [
    "print(make_kgr_tikz_graph())"
   ]
  },
  {
   "cell_type": "code",
   "execution_count": 443,
   "metadata": {},
   "outputs": [],
   "source": [
    "def make_rnc_tikz_graph():\n",
    "    \"\"\"\n",
    "    Create the TikZ code for plotting the RNC diagram\n",
    "    \"\"\"\n",
    "\n",
    "    np.random.seed(1)\n",
    "\n",
    "    x = 2 * np.random.uniform(0, 10, size=10)\n",
    "    y = 2 * np.random.uniform(0, 10, size=10)\n",
    "\n",
    "    xx = x - x.mean()\n",
    "    yy = y - y.mean()\n",
    "\n",
    "    edges  = np.array([(0, 9),(0, 8),(0, 7),(0, 6),(0, 1),(1, 9),(1, 7),(1, 3),(3, 7),(3, 5), \n",
    "                       (6, 7),(5, 6),(6, 8),(2, 5),(2, 6),(2, 4),(4, 6),(4, 8),(8, 9), (7, 5)])\n",
    "\n",
    "\n",
    "    A = np.zeros((10, 10))\n",
    "\n",
    "    A[edges[:, 0], edges[:, 1]] = 1\n",
    "    A = A + A.T\n",
    "\n",
    "    L = np.diag(A.sum(0)) - A \n",
    "\n",
    "    lam, U = np.linalg.eigh(L)\n",
    "\n",
    "    H = U @ diag(np.exp(-lam)) @ U.T\n",
    "\n",
    "    def make_section(i, t, offset):\n",
    "\n",
    "        np.random.seed(i)\n",
    "\n",
    "        s = np.random.choice(np.arange(10), size=4)\n",
    "\n",
    "        cols = to_colors(H @ np.random.normal(size=10), cmap='autumn')\n",
    "\n",
    "        x = np.random.normal(size=4)\n",
    "\n",
    "        tex = f\"\\\\draw ({0 + offset},3) node{{$t = {t}$}}; \\n\"\n",
    "        tex +=  f\"\\\\draw ({-2.3 + offset},0) node{{$\\\\mathbf{{y}}_{t} = $}};\\n\\n\"\n",
    "\n",
    "        for i in range(10):\n",
    "\n",
    "            if i in s:\n",
    "                tex += f'\\\\node[circle, draw, fill={{rgb,255: red,255; green,255; blue,255}}, minimum size=2mm] ({i + j * 10}) at ({offset + xx[i] / 4:.2f}, {yy[i] / 4:.2f}) {{}};\\n'\n",
    "\n",
    "            else:\n",
    "                tex += f'\\\\node[circle, draw, fill={{rgb,255: red,{int(cols[i][1:3], base=16)}; green,{int(cols[i][3:5], base=16)}; blue,{int(cols[i][5:], base=16)}}}, minimum size=2mm] ({i + j * 10}) at ({offset + xx[i] / 4:.2f}, {yy[i] / 4:.2f}) {{}};\\n'\n",
    "\n",
    "        tex += '\\n'\n",
    "\n",
    "        for e1, e2 in edges:\n",
    "            tex += f'\\draw[gray, very thin] ({e1 + j * 10}) to ({e2 + j * 10});\\n'\n",
    "\n",
    "        for xi, yi in [(0.8, 2.3), (-2, 1.2), (0.2, 1.1), (-0.7, -0.4), (1.45, 0), (2, 1.7), (-0.8, -2.3), (-1.6, -1.5), (0.5, -1.8), (2, -1.1)]:\n",
    "\n",
    "            x_ = np.abs(np.random.normal(size=3))\n",
    "            tex += f'\\\\draw ({xi + offset}, {yi}) node{{\\\\scalebox{{0.7}}{{$[{x_[0]:.1f}, {x_[1]:.1f}, {x_[2]:.1f}]$}}}};\\n'\n",
    " \n",
    "        return tex + '\\n'\n",
    "\n",
    "    all_tex = \"\"\"\\\\documentclass[crop,tikz]{standalone} \\n\\\\usepackage{tikz, amsmath, amssymb} \\n\\\\usetikzlibrary{positioning, shapes.geometric} \\n\\\\begin{document} \\n\\\\begin{tikzpicture}\\n\"\"\"\n",
    "\n",
    "    for j, t in enumerate(['1', '2', 'T']):\n",
    "\n",
    "        if j == 0:\n",
    "            o = 0\n",
    "        elif j == 1:\n",
    "            o = 7\n",
    "        else:\n",
    "            o = 15\n",
    "\n",
    "        all_tex += make_section(j, t, o)\n",
    "\n",
    "\n",
    "    all_tex += \"\\draw (2.3, 0) node{$,$};\\n\" \n",
    "    all_tex += '\\draw (10.2, 0) node{$, \\quad\\quad\\quad \\dots $};\\n'\n",
    "\n",
    "    all_tex += \"\\\\end{tikzpicture}\\n\\\\end{document} \"\n",
    "\n",
    "    return all_tex "
   ]
  },
  {
   "cell_type": "code",
   "execution_count": null,
   "metadata": {},
   "outputs": [],
   "source": [
    "print(make_rnc_tikz_graph())"
   ]
  },
  {
   "cell_type": "code",
   "execution_count": 609,
   "metadata": {},
   "outputs": [],
   "source": [
    "np.random.seed(0)\n",
    "               \n",
    "N = 12\n",
    "T = 8\n",
    "M = 3\n",
    "gamma = 0.4\n",
    "\n",
    "X = np.random.normal(size=(T, M))\n",
    "K = np.exp(-squareform(pdist(X, metric='sqeuclidean')))\n",
    "lamK, V = np.linalg.eigh(K)\n",
    "\n",
    "\n",
    "graph = Graph.random_connected(N)\n",
    "U = graph.U\n",
    "lamN = graph.lam\n",
    "\n",
    "# normal\n",
    "# G = lamK[None, :] ** 0.5 * np.exp(-lamN[:, None])\n",
    "\n",
    "# SFL\n",
    "G = lamK[None, :] ** 0.5 * np.array([1] + [0] * (N - 1))[:, None]\n",
    "\n",
    "# WFL\n",
    "# G = lamK[None, :] ** 0.5 * np.ones((N, 1))\n",
    "\n",
    "J = G ** 2 / (G ** 2 + gamma)\n",
    "\n",
    "DJ = diag(vec(J))\n",
    "DG = diag(vec(G))\n",
    "\n",
    "m = 0.6\n",
    "DS = np.zeros(N * T)\n",
    "DS[np.random.choice(np.arange(N * T), size=int((1 - m) * N * T), replace=False)] = 1\n",
    "DS = diag(DS)\n",
    "DS_ = np.eye(N * T) - DS"
   ]
  },
  {
   "cell_type": "code",
   "execution_count": 610,
   "metadata": {},
   "outputs": [],
   "source": [
    "def Del(N):\n",
    "    out = np.zeros((N, N))\n",
    "    out[0, 0] = 1\n",
    "    return out"
   ]
  },
  {
   "cell_type": "code",
   "execution_count": 611,
   "metadata": {},
   "outputs": [
    {
     "data": {
      "text/plain": [
       "array([[ 0.059,  0.059,  0.059,  0.059,  0.059, ..., -0.   , -0.   , -0.   , -0.   , -0.   ],\n",
       "       [ 0.059,  0.059,  0.059,  0.059,  0.059, ..., -0.   , -0.   , -0.   , -0.   , -0.   ],\n",
       "       [ 0.059,  0.059,  0.059,  0.059,  0.059, ..., -0.   , -0.   , -0.   , -0.   , -0.   ],\n",
       "       [ 0.059,  0.059,  0.059,  0.059,  0.059, ..., -0.   , -0.   , -0.   , -0.   , -0.   ],\n",
       "       [ 0.059,  0.059,  0.059,  0.059,  0.059, ..., -0.   , -0.   , -0.   , -0.   , -0.   ],\n",
       "       ...,\n",
       "       [-0.   , -0.   , -0.   , -0.   , -0.   , ...,  0.056,  0.056,  0.056,  0.056,  0.056],\n",
       "       [-0.   , -0.   , -0.   , -0.   , -0.   , ...,  0.056,  0.056,  0.056,  0.056,  0.056],\n",
       "       [-0.   , -0.   , -0.   , -0.   , -0.   , ...,  0.056,  0.056,  0.056,  0.056,  0.056],\n",
       "       [-0.   , -0.   , -0.   , -0.   , -0.   , ...,  0.056,  0.056,  0.056,  0.056,  0.056],\n",
       "       [-0.   , -0.   , -0.   , -0.   , -0.   , ...,  0.056,  0.056,  0.056,  0.056,  0.056]])"
      ]
     },
     "execution_count": 611,
     "metadata": {},
     "output_type": "execute_result"
    }
   ],
   "source": [
    "np.kron(V, U) @ DJ @ np.kron(V, U).T"
   ]
  },
  {
   "cell_type": "code",
   "execution_count": 628,
   "metadata": {},
   "outputs": [
    {
     "data": {
      "text/plain": [
       "array([0.805, 0.785, 0.785, 0.785, 0.783, 0.782, 0.781, 0.765, 0.74 , 0.74 , 0.724, 0.724, 0.717, 0.717, 0.715, 0.715, 0.714, 0.714, 0.714, 0.714, 0.714, 0.714, 0.714, 0.714, 0.714, 0.714, 0.714, 0.714, 0.714, 0.714, 0.714, 0.704, 0.704, 0.696, 0.692, 0.692, 0.688, 0.683, 0.681, 0.68 , 0.672, 0.672, 0.636, 0.635, 0.635, 0.597, 0.58 , 0.579, 0.573, 0.572, 0.571, 0.554, 0.554, 0.547, 0.547, 0.547, 0.546, 0.424, 0.   , 0.   , 0.   , 0.   , 0.   , 0.   , 0.   , 0.   , 0.   , 0.   , 0.   , 0.   ,\n",
       "       0.   , 0.   , 0.   , 0.   , 0.   , 0.   , 0.   , 0.   , 0.   , 0.   , 0.   , 0.   , 0.   , 0.   , 0.   , 0.   , 0.   , 0.   , 0.   , 0.   , 0.   , 0.   , 0.   , 0.   , 0.   , 0.   ])"
      ]
     },
     "execution_count": 628,
     "metadata": {},
     "output_type": "execute_result"
    }
   ],
   "source": [
    "-np.sort(-np.real(np.linalg.eigvals(np.kron(V @ diag(lamK / (lamK + gamma)) @ V.T, np.eye(N)) @ DS_)))"
   ]
  },
  {
   "cell_type": "code",
   "execution_count": 634,
   "metadata": {},
   "outputs": [
    {
     "data": {
      "text/plain": [
       "array([ 0.536,  0.536,  0.476,  0.476,  0.417,  0.417,  0.357,  0.238,  0.   ,  0.   ,  0.   ,  0.   ,  0.   ,  0.   ,  0.   ,  0.   ,  0.   ,  0.   ,  0.   ,  0.   ,  0.   ,  0.   ,  0.   ,  0.   ,  0.   ,  0.   ,  0.   ,  0.   ,  0.   ,  0.   ,  0.   ,  0.   ,  0.   ,  0.   ,  0.   ,  0.   ,  0.   ,  0.   ,  0.   ,  0.   ,  0.   ,  0.   ,  0.   ,  0.   ,  0.   ,  0.   ,  0.   ,  0.   ,  0.   ,  0.   ,  0.   ,  0.   ,  0.   ,  0.   ,  0.   ,  0.   ,  0.   ,  0.   ,  0.   ,  0.   ,  0.   ,\n",
       "        0.   ,  0.   ,  0.   ,  0.   ,  0.   ,  0.   ,  0.   ,  0.   ,  0.   ,  0.   ,  0.   ,  0.   ,  0.   , -0.   , -0.   , -0.   , -0.   , -0.   , -0.   , -0.   , -0.   , -0.   , -0.   , -0.   , -0.   , -0.   , -0.   , -0.   , -0.   , -0.   , -0.   , -0.   , -0.   , -0.   , -0.   ])"
      ]
     },
     "execution_count": 634,
     "metadata": {},
     "output_type": "execute_result"
    }
   ],
   "source": [
    "-np.sort(-np.real(np.linalg.eigvals(N ** -1 * np.kron(V @ diag(lamK / (lamK + gamma)) @ V.T, np.ones((N, N))) @ DS_)))"
   ]
  },
  {
   "cell_type": "code",
   "execution_count": 644,
   "metadata": {},
   "outputs": [
    {
     "data": {
      "text/plain": [
       "array([ 0.604,  0.   ,  0.   ,  0.   ,  0.   ,  0.   ,  0.   ,  0.   ,  0.   ,  0.   ,  0.   ,  0.   ,  0.   ,  0.   ,  0.   ,  0.   ,  0.   ,  0.   ,  0.   ,  0.   ,  0.   ,  0.   ,  0.   ,  0.   ,  0.   ,  0.   ,  0.   ,  0.   ,  0.   ,  0.   ,  0.   ,  0.   ,  0.   ,  0.   ,  0.   ,  0.   ,  0.   ,  0.   ,  0.   ,  0.   ,  0.   ,  0.   ,  0.   ,  0.   ,  0.   ,  0.   ,  0.   ,  0.   ,  0.   ,  0.   ,  0.   ,  0.   ,  0.   ,  0.   ,  0.   ,  0.   ,  0.   ,  0.   ,  0.   ,  0.   ,  0.   ,\n",
       "        0.   ,  0.   ,  0.   ,  0.   ,  0.   ,  0.   ,  0.   ,  0.   ,  0.   ,  0.   ,  0.   ,  0.   ,  0.   ,  0.   ,  0.   ,  0.   ,  0.   ,  0.   ,  0.   ,  0.   ,  0.   ,  0.   ,  0.   ,  0.   ,  0.   ,  0.   ,  0.   ,  0.   ,  0.   ,  0.   ,  0.   ,  0.   , -0.   , -0.   , -0.   ])"
      ]
     },
     "execution_count": 644,
     "metadata": {},
     "output_type": "execute_result"
    }
   ],
   "source": [
    "-np.sort(-np.real(np.linalg.eigvals(T ** -1 * N ** -1 * np.ones((N*T, N*T)) @ DS_)))"
   ]
  },
  {
   "cell_type": "code",
   "execution_count": 642,
   "metadata": {},
   "outputs": [
    {
     "data": {
      "text/plain": [
       "array([ 0.,  0.,  0.,  0.,  0.,  0.,  0.,  0.,  0.,  0.,  0.,  0.,  0.,  0.,  0.,  0.,  0.,  0.,  0.,  0.,  0.,  0.,  0.,  0.,  0.,  0.,  0.,  0.,  0.,  0.,  0.,  0.,  0.,  0.,  0.,  0.,  0.,  0.,  0., 58., -0.,  0.,  0.,  0.,  0., -0.,  0.,  0.,  0.,  0.,  0.,  0.,  0.,  0.,  0.,  0.,  0.,  0.,  0.,  0.,  0.,  0.,  0.,  0.,  0.,  0.,  0.,  0.,  0.,  0.,  0.,  0.,  0.,  0.,  0.,  0.,  0.,  0.,  0.,  0.,  0.,  0.,  0.,  0.,  0.,  0.,  0.,  0.,  0.,  0.,  0.,  0.,  0.,  0.,  0.,  0.])"
      ]
     },
     "execution_count": 642,
     "metadata": {},
     "output_type": "execute_result"
    }
   ],
   "source": [
    "np.linalg.eigvals(np.ones((N*T, N*T)) @ DS_)"
   ]
  },
  {
   "cell_type": "code",
   "execution_count": 643,
   "metadata": {},
   "outputs": [
    {
     "data": {
      "text/plain": [
       "0.43154761904761907"
      ]
     },
     "execution_count": 643,
     "metadata": {},
     "output_type": "execute_result"
    }
   ],
   "source": [
    "T ** -1 * N ** -1 * DS_.sum() * 1 / (1 + gamma)"
   ]
  },
  {
   "cell_type": "code",
   "execution_count": 645,
   "metadata": {},
   "outputs": [
    {
     "data": {
      "text/plain": [
       "0.6041666666666666"
      ]
     },
     "execution_count": 645,
     "metadata": {},
     "output_type": "execute_result"
    }
   ],
   "source": [
    "T ** -1 * N ** -1 *DS_.sum()"
   ]
  },
  {
   "cell_type": "code",
   "execution_count": 618,
   "metadata": {},
   "outputs": [
    {
     "data": {
      "text/plain": [
       "array([0.402, 0.572, 0.688, 0.707, 0.714, 0.714, 0.775, 0.831])"
      ]
     },
     "execution_count": 618,
     "metadata": {},
     "output_type": "execute_result"
    }
   ],
   "source": [
    "lamK / (lamK + gamma)"
   ]
  },
  {
   "cell_type": "code",
   "execution_count": 615,
   "metadata": {},
   "outputs": [
    {
     "data": {
      "text/plain": [
       "array([ 0., 12.,  0.,  0.,  0.,  0.,  0.,  0.,  0.,  0.,  0.,  0.])"
      ]
     },
     "execution_count": 615,
     "metadata": {},
     "output_type": "execute_result"
    }
   ],
   "source": [
    "np.linalg.eigvals(np.ones((N, N)))"
   ]
  },
  {
   "cell_type": "code",
   "execution_count": 592,
   "metadata": {},
   "outputs": [
    {
     "name": "stdout",
     "output_type": "stream",
     "text": [
      "0.8312180881242061\n",
      "0.8312180881242064\n"
     ]
    }
   ],
   "source": [
    "lam_sim = np.linalg.eigvals(np.kron(V, U) @ DJ @ np.kron(V, U).T @ DS_)\n",
    "\n",
    "print(np.abs(lam_sim).max())\n",
    "print(lamK.max() / (lamK.max() + gamma))"
   ]
  },
  {
   "cell_type": "code",
   "execution_count": 593,
   "metadata": {},
   "outputs": [
    {
     "name": "stdout",
     "output_type": "stream",
     "text": [
      "3.500000000000005\n",
      "5.924805501290318\n"
     ]
    }
   ],
   "source": [
    "lam_cgm = np.linalg.eigvalsh(DG @ np.kron(V, U).T @ DS @ np.kron(V, U) @ DG + gamma * I(N * T))\n",
    "\n",
    "print(lam_cgm.max() / lam_cgm.min())\n",
    "print((lamK.max() + gamma) / gamma)"
   ]
  },
  {
   "cell_type": "code",
   "execution_count": null,
   "metadata": {},
   "outputs": [],
   "source": []
  }
 ],
 "metadata": {
  "kernelspec": {
   "display_name": "p310",
   "language": "python",
   "name": "python3"
  },
  "language_info": {
   "codemirror_mode": {
    "name": "ipython",
    "version": 3
   },
   "file_extension": ".py",
   "mimetype": "text/x-python",
   "name": "python",
   "nbconvert_exporter": "python",
   "pygments_lexer": "ipython3",
   "version": "3.10.4"
  },
  "orig_nbformat": 4
 },
 "nbformat": 4,
 "nbformat_minor": 2
}
