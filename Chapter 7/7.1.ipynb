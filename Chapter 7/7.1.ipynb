{
 "cells": [
  {
   "cell_type": "code",
   "execution_count": 16,
   "metadata": {},
   "outputs": [
    {
     "name": "stdout",
     "output_type": "stream",
     "text": [
      "The autoreload extension is already loaded. To reload it, use:\n",
      "  %reload_ext autoreload\n"
     ]
    }
   ],
   "source": [
    "\n",
    "import numpy as np\n",
    "import matplotlib.pyplot as plt\n",
    "import pandas as pd\n",
    "\n",
    "np.set_printoptions(precision=3, linewidth=500, threshold=500, suppress=True, edgeitems=5)\n",
    "\n",
    "pd.set_option('display.max_rows', 60)\n",
    "pd.set_option('display.min_rows', 30)\n",
    "pd.set_option('display.width', 200)\n",
    "pd.set_option('display.max_columns', 40)\n",
    "\n",
    "%load_ext autoreload\n",
    "%autoreload 2\n",
    "\n",
    "%matplotlib inline\n"
   ]
  },
  {
   "cell_type": "code",
   "execution_count": 2,
   "metadata": {},
   "outputs": [
    {
     "name": "stderr",
     "output_type": "stream",
     "text": [
      "2023-05-20 21:00:59.782292: E external/xla/xla/stream_executor/cuda/cuda_driver.cc:268] failed call to cuInit: CUDA_ERROR_UNKNOWN: unknown error\n",
      "No GPU/TPU found, falling back to CPU. (Set TF_CPP_MIN_LOG_LEVEL=0 and rerun for more info.)\n"
     ]
    },
    {
     "name": "stdout",
     "output_type": "stream",
     "text": [
      "Using Jax backend with device TFRT_CPU_0\n"
     ]
    }
   ],
   "source": [
    "from ndgsp.models.reconstruction import GSR\n",
    "from ndgsp.models.regression.rnc import RNC\n",
    "from ndgsp.graph.graphs import ProductGraph\n",
    "from ndgsp.graph.filters import MultivariateFilterFunction\n",
    "from ndgsp.algorithms.cgm import solve_SPCGM\n",
    "\n",
    "from pykronecker import KroneckerDiag, KroneckerIdentity\n",
    "\n",
    "from scipy.optimize import minimize"
   ]
  },
  {
   "cell_type": "code",
   "execution_count": 3,
   "metadata": {},
   "outputs": [],
   "source": [
    "N = 10\n",
    "T = 12\n",
    "gamma = 1\n",
    "\n",
    "np.random.seed(0)\n",
    "\n",
    "Y = np.random.normal(size=(N, T))\n",
    "\n",
    "S = np.random.randint(2, size=(N, T))\n",
    "\n",
    "Y[~S.astype(bool)] = np.nan\n",
    "\n",
    "DS = np.diag(S.reshape(-1))"
   ]
  },
  {
   "cell_type": "code",
   "execution_count": 4,
   "metadata": {},
   "outputs": [],
   "source": [
    "graph = ProductGraph.lattice(N, T)\n",
    "ffunc = MultivariateFilterFunction.diffusion(beta=[0.5, 0.7])\n",
    "G = ffunc(graph.lams)\n",
    "H = graph.U @ np.diag(G.reshape(-1)) @ graph.U.T\n",
    "Hi = np.linalg.inv(H)\n",
    "cov_true = np.linalg.inv(DS +  gamma * Hi @ Hi)\n",
    "var_true = np.diag(cov_true).reshape(N, T)\n",
    "\n",
    "Omega = np.log(var_true)\n"
   ]
  },
  {
   "cell_type": "code",
   "execution_count": 5,
   "metadata": {},
   "outputs": [
    {
     "data": {
      "text/plain": [
       "-1.5844427"
      ]
     },
     "execution_count": 5,
     "metadata": {},
     "output_type": "execute_result"
    }
   ],
   "source": [
    "DG = KroneckerDiag(G)\n",
    "\n",
    "def compute_omega_element(n, t):\n",
    "\n",
    "    sig = np.zeros_like(Y)\n",
    "    sig[n, t] = 1\n",
    "\n",
    "    A_precon = DG @ graph.U.T @ KroneckerDiag(S) @ graph.U @ DG + gamma * KroneckerIdentity(like=DG)\n",
    "    var, nits = solve_SPCGM(A_precon=A_precon, Y=sig, Phi=graph.U @ DG)\n",
    "\n",
    "    return np.log(var[n, t])\n",
    "\n",
    "\n",
    "compute_omega_element(0, 0)"
   ]
  },
  {
   "cell_type": "code",
   "execution_count": 6,
   "metadata": {},
   "outputs": [
    {
     "data": {
      "text/plain": [
       "array([[-1.584, -2.084, -2.191, -2.153, -2.154, -2.211, -2.297, -2.316, -2.282, -2.251, -2.127, -1.641],\n",
       "       [-2.089, -2.608, -2.751, -2.74 , -2.741, -2.76 , -2.757, -2.696, -2.666, -2.698, -2.634, -2.18 ],\n",
       "       [-2.262, -2.739, -2.854, -2.864, -2.872, -2.866, -2.819, -2.735, -2.696, -2.7  , -2.609, -2.192],\n",
       "       [-2.244, -2.691, -2.8  , -2.828, -2.845, -2.849, -2.824, -2.792, -2.777, -2.735, -2.554, -2.094],\n",
       "       [-2.137, -2.579, -2.733, -2.761, -2.767, -2.79 , -2.774, -2.76 , -2.765, -2.742, -2.583, -2.117],\n",
       "       [-2.132, -2.535, -2.644, -2.673, -2.729, -2.8  , -2.809, -2.775, -2.752, -2.734, -2.615, -2.193],\n",
       "       [-2.125, -2.533, -2.639, -2.693, -2.773, -2.82 , -2.811, -2.77 , -2.756, -2.719, -2.587, -2.179],\n",
       "       [-2.237, -2.656, -2.725, -2.77 , -2.817, -2.813, -2.805, -2.787, -2.789, -2.735, -2.56 , -2.127],\n",
       "       [-2.189, -2.63 , -2.679, -2.718, -2.793, -2.817, -2.82 , -2.806, -2.76 , -2.68 , -2.572, -2.168],\n",
       "       [-1.638, -2.103, -2.182, -2.212, -2.314, -2.375, -2.386, -2.373, -2.314, -2.252, -2.197, -1.791]], dtype=float32)"
      ]
     },
     "execution_count": 6,
     "metadata": {},
     "output_type": "execute_result"
    }
   ],
   "source": [
    "np.array([[compute_omega_element(n, t) for t in range(T)] for n in range(N)])"
   ]
  },
  {
   "cell_type": "code",
   "execution_count": 7,
   "metadata": {},
   "outputs": [],
   "source": [
    "X1 = np.ones_like(Y)\n",
    "X2 = (1 - S)\n",
    "X3 = graph.filter(X2, ffunc)\n",
    "X4 = (graph.U * graph.U) @ G\n",
    "X5 = (graph.U * graph.U) @ (G ** 2)\n",
    "X6 = graph.A @ np.ones_like(Y)\n",
    "X7 = graph.filter(X6, ffunc)\n",
    "\n",
    "X = np.array([X1.ravel(), X2.ravel(), X3.ravel(), X4.ravel(), X5.ravel(), X6.ravel(), X7.ravel()]).T"
   ]
  },
  {
   "cell_type": "code",
   "execution_count": 8,
   "metadata": {},
   "outputs": [],
   "source": [
    "def get_Omega_Q_random(Q: int, seed=1):\n",
    "\n",
    "    np.random.seed(seed)\n",
    "\n",
    "    ix, iy = np.array(sum([[(n, t) for t in range(T)] for n in range(N)], []))[np.random.choice(N * T, size=Q)].T\n",
    "\n",
    "    Omega_Q = np.zeros_like(Omega)\n",
    "    Omega_Q[:] = np.nan\n",
    "    Omega_Q[ix, iy] = Omega[ix, iy]\n",
    "\n",
    "    return Omega_Q\n",
    "\n",
    "\n",
    "# def mse(pred)\n"
   ]
  },
  {
   "cell_type": "code",
   "execution_count": 9,
   "metadata": {},
   "outputs": [],
   "source": [
    "import time"
   ]
  },
  {
   "cell_type": "code",
   "execution_count": 10,
   "metadata": {},
   "outputs": [],
   "source": [
    "Omega_Q = get_Omega_Q_random(50)"
   ]
  },
  {
   "cell_type": "code",
   "execution_count": 11,
   "metadata": {},
   "outputs": [],
   "source": [
    "class RidgeRegression:\n",
    "\n",
    "    def __init__(self, Omega_Q, X, lam=1) -> None:\n",
    "        \n",
    "        self.Q = (~np.isnan(Omega_Q)).astype(float)\n",
    "        self.DQ = KroneckerDiag(self.Q)\n",
    "        self.Omega_Q = np.nan_to_num(Omega_Q, nan=0, copy=True)\n",
    "        self.X = X\n",
    "        self.lam = lam\n",
    "\n",
    "    def predict(self):\n",
    "\n",
    "        return (self.X @ np.linalg.solve(self.X.T @ self.DQ @ self.X + self.lam * np.eye(self.X.shape[1]), self.X.T @ self.Omega_Q.ravel())).reshape(self.Omega_Q.shape)\n",
    "\n",
    "\n",
    "class LFP:\n",
    "\n",
    "    def __init__(self, Omega_Q, X, lam, graph, ffunc) -> None:\n",
    "        \n",
    "        self.Q = (~np.isnan(Omega_Q)).astype(float)\n",
    "        self.Omega_Q = np.nan_to_num(Omega_Q, nan=0, copy=True)\n",
    "        self.X = X\n",
    "        self.lam = lam\n",
    "        self.graph = graph\n",
    "        self.ffunc = ffunc\n",
    "        self.S_ = self.X[:, 1].reshape(self.Omega_Q.shape)\n",
    "        self.NA = self.X[:, 5].reshape(self.Omega_Q.shape)\n",
    "        \n",
    "\n",
    "        if hasattr(ffunc.beta, '__len__'):\n",
    "            self.beta_len = len(ffunc.beta)\n",
    "            self.w0 = np.zeros(3 + 2 * self.beta_len)\n",
    "            self.w0[3:3+self.beta_len] = np.log(ffunc.beta)\n",
    "            self.w0[3+self.beta_len:] = np.log(ffunc.beta)\n",
    "        else:\n",
    "            self.beta_len = 1\n",
    "            self.w0 = np.zeros(5)\n",
    "            self.w0[3:] = ffunc.beta\n",
    "\n",
    "\n",
    "    def predict(self, w):\n",
    "        \n",
    "\n",
    "        w1, w2, w3 = w[:3]\n",
    "\n",
    "        if self.beta_len == 1:\n",
    "            beta1, beta2 = np.exp(w[3:])\n",
    "\n",
    "        else:\n",
    "\n",
    "            beta1 = np.exp(w[3:3+self.beta_len])\n",
    "            beta2 = np.exp(w[3+self.beta_len:])\n",
    "        \n",
    "        self.ffunc.set_beta(beta1)\n",
    "\n",
    "        t2 = w2 * self.graph.filter(self.S_, self.ffunc)\n",
    "\n",
    "        self.ffunc.set_beta(beta2)\n",
    "\n",
    "        t3 = w3 * self.graph.filter(self.NA, self.ffunc)\n",
    "\n",
    "\n",
    "        return w1 + t2 + t3\n",
    "    \n",
    "    def loss(self, w):\n",
    "\n",
    "        pred = self.predict(w)\n",
    "\n",
    "        l =  float(((self.Omega_Q - self.Q * pred) ** 2).sum() + self.lam * ((w - self.w0) ** 2).sum())\n",
    "\n",
    "        print(f'params: {w}, loss: {l:.4e}', end='\\r')\n",
    "\n",
    "        return l\n",
    "\n",
    "    def solve(self):\n",
    "\n",
    "        sol = minimize(self.loss, [-0.01,  0.147, -0.712,  0.012,  0.037,  0.194,  0.017], method='Nelder-Mead')\n",
    "\n",
    "        print(sol)\n",
    "\n",
    "        return self.predict(sol.x)\n",
    "    \n",
    "\n"
   ]
  },
  {
   "cell_type": "code",
   "execution_count": 12,
   "metadata": {},
   "outputs": [],
   "source": [
    "Omega_Q = get_Omega_Q_random(100)"
   ]
  },
  {
   "cell_type": "code",
   "execution_count": 48,
   "metadata": {},
   "outputs": [
    {
     "name": "stdout",
     "output_type": "stream",
     "text": [
      "<class 'numpy.ndarray'> <class 'numpy.ndarray'>\n"
     ]
    }
   ],
   "source": [
    "ffunc2 = MultivariateFilterFunction.diffusion(beta=[1, 1])\n",
    "\n",
    "mod = GSR(Omega_Q, graph, ffunc2, gamma=1e-1, normalise=True)\n",
    "\n"
   ]
  },
  {
   "cell_type": "code",
   "execution_count": 51,
   "metadata": {},
   "outputs": [
    {
     "data": {
      "text/plain": [
       "<matplotlib.image.AxesImage at 0x7f9202a71b70>"
      ]
     },
     "execution_count": 51,
     "metadata": {},
     "output_type": "execute_result"
    },
    {
     "data": {
      "image/png": "[encoded data removed]",
      "text/plain": [
       "<Figure size 640x480 with 3 Axes>"
      ]
     },
     "metadata": {},
     "output_type": "display_data"
    }
   ],
   "source": [
    "fig, axes = plt.subplots(ncols=3)\n",
    "\n",
    "#\n",
    "axes[0].imshow(Omega, vmin=Omega.min(), vmax=Omega.max())\n",
    "axes[1].imshow(Omega_Q, vmin=Omega.min(), vmax=Omega.max())\n",
    "axes[2].imshow(mod.denormalise(mod.compute_mean()), vmin=Omega.min(), vmax=Omega.max())"
   ]
  },
  {
   "cell_type": "code",
   "execution_count": 318,
   "metadata": {},
   "outputs": [
    {
     "name": "stdout",
     "output_type": "stream",
     "text": [
      "       message: Optimization terminated successfully..38 ], loss: 5.3701e-02\n",
      "       success: True\n",
      "        status: 0\n",
      "           fun: 0.0537012554705143\n",
      "             x: [-4.827e-01  8.273e-01 -6.614e-01 -5.468e-02  1.277e+00\n",
      "                 -1.503e+00 -1.380e+00]\n",
      "           nit: 603\n",
      "          nfev: 928\n",
      " final_simplex: (array([[-4.827e-01,  8.273e-01, ..., -1.503e+00,\n",
      "                        -1.380e+00],\n",
      "                       [-4.827e-01,  8.273e-01, ..., -1.503e+00,\n",
      "                        -1.380e+00],\n",
      "                       ...,\n",
      "                       [-4.826e-01,  8.272e-01, ..., -1.503e+00,\n",
      "                        -1.380e+00],\n",
      "                       [-4.826e-01,  8.272e-01, ..., -1.503e+00,\n",
      "                        -1.380e+00]]), array([ 5.370e-02,  5.370e-02,  5.370e-02,  5.370e-02,\n",
      "                        5.370e-02,  5.370e-02,  5.370e-02,  5.370e-02]))\n"
     ]
    },
    {
     "data": {
      "image/png": "[encoded data removed]",
      "text/plain": [
       "<Figure size 800x500 with 6 Axes>"
      ]
     },
     "metadata": {},
     "output_type": "display_data"
    }
   ],
   "source": [
    "fig, axes = plt.subplots(nrows=2, ncols=3, figsize=(8, 5))\n",
    "\n",
    "preds = {'Input': Omega_Q, \n",
    "         'Ground Truth': Omega, \n",
    "         'RidgeRegression': RidgeRegression(Omega_Q, X, lam=1).predict(),\n",
    "         'GSR': GSR(Omega_Q, graph, ffunc, gamma=1).compute_mean(), \n",
    "         'RNC': RNC(X, Omega_Q, graph, ffunc, gamma=1, lam=1e-5).compute_mean(),\n",
    "         'LFP': LFP(Omega_Q, X, 1e-5, graph, ffunc).solve()}\n",
    "\n",
    "\n",
    "for ax, (name, value) in zip(axes.ravel(), preds.items()):\n",
    "\n",
    "    ax.set_xticks([])\n",
    "    ax.set_yticks([])\n",
    "\n",
    "    ax.imshow(value, vmin=preds['Ground Truth'].min(), vmax=preds['Ground Truth'].max())\n",
    "    ax.set_title(name)\n"
   ]
  },
  {
   "cell_type": "code",
   "execution_count": null,
   "metadata": {},
   "outputs": [],
   "source": []
  }
 ],
 "metadata": {
  "kernelspec": {
   "display_name": "thesis",
   "language": "python",
   "name": "python3"
  },
  "language_info": {
   "codemirror_mode": {
    "name": "ipython",
    "version": 3
   },
   "file_extension": ".py",
   "mimetype": "text/x-python",
   "name": "python",
   "nbconvert_exporter": "python",
   "pygments_lexer": "ipython3",
   "version": "3.10.10"
  },
  "orig_nbformat": 4
 },
 "nbformat": 4,
 "nbformat_minor": 2
}
